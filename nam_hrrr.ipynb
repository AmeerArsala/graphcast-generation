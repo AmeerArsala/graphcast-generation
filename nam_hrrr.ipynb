{
 "cells": [
  {
   "cell_type": "code",
   "execution_count": 2,
   "id": "fb5151ec-1be4-4ddb-b712-f54b1655bc41",
   "metadata": {},
   "outputs": [
    {
     "data": {
      "text/plain": [
       "'gpu'"
      ]
     },
     "execution_count": 2,
     "metadata": {},
     "output_type": "execute_result"
    }
   ],
   "source": [
    "import jax\n",
    "import jax.numpy as jnp\n",
    "import threddsclient\n",
    "\n",
    "\n",
    "jax.default_backend()"
   ]
  },
  {
   "cell_type": "code",
   "execution_count": 3,
   "id": "3fee15dd-54e1-4767-8c17-cf7668c3cf56",
   "metadata": {},
   "outputs": [
    {
     "data": {
      "text/plain": [
       "<threddsclient.catalog.Catalog at 0x7f3931926c20>"
      ]
     },
     "execution_count": 3,
     "metadata": {},
     "output_type": "execute_result"
    }
   ],
   "source": [
    "cat = threddsclient.read_url('https://www.ncei.noaa.gov/thredds/catalog/model/nam.html')\n",
    "cat"
   ]
  },
  {
   "cell_type": "code",
   "execution_count": 4,
   "id": "895adb36-2dd8-4cb1-874b-be28a1fe6832",
   "metadata": {},
   "outputs": [
    {
     "data": {
      "text/plain": [
       "['__class__',\n",
       " '__delattr__',\n",
       " '__dict__',\n",
       " '__dir__',\n",
       " '__doc__',\n",
       " '__eq__',\n",
       " '__format__',\n",
       " '__ge__',\n",
       " '__getattribute__',\n",
       " '__gt__',\n",
       " '__hash__',\n",
       " '__init__',\n",
       " '__init_subclass__',\n",
       " '__le__',\n",
       " '__lt__',\n",
       " '__module__',\n",
       " '__ne__',\n",
       " '__new__',\n",
       " '__reduce__',\n",
       " '__reduce_ex__',\n",
       " '__repr__',\n",
       " '__setattr__',\n",
       " '__sizeof__',\n",
       " '__str__',\n",
       " '__subclasshook__',\n",
       " '__weakref__',\n",
       " '_datasets',\n",
       " '_references',\n",
       " '_services',\n",
       " 'datasets',\n",
       " 'download_urls',\n",
       " 'flat_datasets',\n",
       " 'flat_references',\n",
       " 'get_services',\n",
       " 'name',\n",
       " 'opendap_urls',\n",
       " 'references',\n",
       " 'services',\n",
       " 'skip',\n",
       " 'soup',\n",
       " 'url']"
      ]
     },
     "execution_count": 4,
     "metadata": {},
     "output_type": "execute_result"
    }
   ],
   "source": [
    "dir(cat)"
   ]
  },
  {
   "cell_type": "code",
   "execution_count": 9,
   "id": "0481a135-cff1-4a4b-85f1-f11274739dad",
   "metadata": {},
   "outputs": [
    {
     "data": {
      "text/plain": [
       "<Node name: NAM Grid 218 - North American Mesoscale file units, content type: application/directory>"
      ]
     },
     "execution_count": 9,
     "metadata": {},
     "output_type": "execute_result"
    }
   ],
   "source": [
    "dataset = cat.datasets[0]\n",
    "dataset"
   ]
  },
  {
   "cell_type": "code",
   "execution_count": 10,
   "id": "3f35da83-6162-491b-8d1b-831e6087225f",
   "metadata": {},
   "outputs": [
    {
     "data": {
      "text/plain": [
       "['ID',\n",
       " '__class__',\n",
       " '__delattr__',\n",
       " '__dict__',\n",
       " '__dir__',\n",
       " '__doc__',\n",
       " '__eq__',\n",
       " '__format__',\n",
       " '__ge__',\n",
       " '__getattribute__',\n",
       " '__gt__',\n",
       " '__hash__',\n",
       " '__init__',\n",
       " '__init_subclass__',\n",
       " '__le__',\n",
       " '__lt__',\n",
       " '__module__',\n",
       " '__ne__',\n",
       " '__new__',\n",
       " '__reduce__',\n",
       " '__reduce_ex__',\n",
       " '__repr__',\n",
       " '__setattr__',\n",
       " '__sizeof__',\n",
       " '__str__',\n",
       " '__subclasshook__',\n",
       " '__weakref__',\n",
       " '_harvest',\n",
       " 'authority',\n",
       " 'bytes',\n",
       " 'catalog',\n",
       " 'collection_type',\n",
       " 'content_type',\n",
       " 'data_format_type',\n",
       " 'data_type',\n",
       " 'datasets',\n",
       " 'harvest',\n",
       " 'is_collection',\n",
       " 'modified',\n",
       " 'name',\n",
       " 'references',\n",
       " 'service_name',\n",
       " 'soup',\n",
       " 'url']"
      ]
     },
     "execution_count": 10,
     "metadata": {},
     "output_type": "execute_result"
    }
   ],
   "source": [
    "dir(dataset)"
   ]
  },
  {
   "cell_type": "code",
   "execution_count": 13,
   "id": "fb939cb4-2bea-4c6d-bad3-3be2e9e319aa",
   "metadata": {},
   "outputs": [
    {
     "data": {
      "text/plain": [
       "<bound method Catalog.download_urls of <threddsclient.catalog.Catalog object at 0x7f3931926c20>>"
      ]
     },
     "execution_count": 13,
     "metadata": {},
     "output_type": "execute_result"
    }
   ],
   "source": [
    "cat.download_urls"
   ]
  },
  {
   "cell_type": "code",
   "execution_count": 14,
   "id": "3ca275d4-4912-478b-9cc3-397c2b1b351c",
   "metadata": {},
   "outputs": [
    {
     "data": {
      "text/plain": [
       "'https://www.ncei.noaa.gov/thredds/catalog/model/nam.xml?dataset=None'"
      ]
     },
     "execution_count": 14,
     "metadata": {},
     "output_type": "execute_result"
    }
   ],
   "source": [
    "dataset.url"
   ]
  },
  {
   "cell_type": "code",
   "execution_count": 15,
   "id": "4bc38787-86e0-4a69-90c4-50e8818f87c2",
   "metadata": {},
   "outputs": [
    {
     "data": {
      "text/plain": [
       "['__call__',\n",
       " '__class__',\n",
       " '__delattr__',\n",
       " '__dir__',\n",
       " '__doc__',\n",
       " '__eq__',\n",
       " '__format__',\n",
       " '__func__',\n",
       " '__ge__',\n",
       " '__get__',\n",
       " '__getattribute__',\n",
       " '__gt__',\n",
       " '__hash__',\n",
       " '__init__',\n",
       " '__init_subclass__',\n",
       " '__le__',\n",
       " '__lt__',\n",
       " '__ne__',\n",
       " '__new__',\n",
       " '__reduce__',\n",
       " '__reduce_ex__',\n",
       " '__repr__',\n",
       " '__self__',\n",
       " '__setattr__',\n",
       " '__sizeof__',\n",
       " '__str__',\n",
       " '__subclasshook__']"
      ]
     },
     "execution_count": 15,
     "metadata": {},
     "output_type": "execute_result"
    }
   ],
   "source": [
    "dir(cat.download_urls)"
   ]
  },
  {
   "cell_type": "code",
   "execution_count": 17,
   "id": "36dc9b5f-c222-4f3c-83e3-ca95abfa93a9",
   "metadata": {},
   "outputs": [
    {
     "ename": "TypeError",
     "evalue": "'method' object is not subscriptable",
     "output_type": "error",
     "traceback": [
      "\u001b[0;31m---------------------------------------------------------------------------\u001b[0m",
      "\u001b[0;31mTypeError\u001b[0m                                 Traceback (most recent call last)",
      "Cell \u001b[0;32mIn[17], line 1\u001b[0m\n\u001b[0;32m----> 1\u001b[0m \u001b[43mcat\u001b[49m\u001b[38;5;241;43m.\u001b[39;49m\u001b[43mdownload_urls\u001b[49m\u001b[43m[\u001b[49m\u001b[38;5;241;43m0\u001b[39;49m\u001b[43m]\u001b[49m\n",
      "\u001b[0;31mTypeError\u001b[0m: 'method' object is not subscriptable"
     ]
    }
   ],
   "source": [
    "cat.download_urls[0]"
   ]
  },
  {
   "cell_type": "code",
   "execution_count": 18,
   "id": "b6b63448-f75a-42b8-a529-c94b56e96c97",
   "metadata": {},
   "outputs": [
    {
     "data": {
      "text/plain": [
       "{'_datasets',\n",
       " '_references',\n",
       " '_services',\n",
       " 'download_urls',\n",
       " 'flat_datasets',\n",
       " 'flat_references',\n",
       " 'get_services',\n",
       " 'opendap_urls',\n",
       " 'services',\n",
       " 'skip'}"
      ]
     },
     "execution_count": 18,
     "metadata": {},
     "output_type": "execute_result"
    }
   ],
   "source": [
    "set(dir(cat)) - set(dir(dataset))"
   ]
  },
  {
   "cell_type": "code",
   "execution_count": 19,
   "id": "7f8f9d0b-5840-4e1c-ba00-dc1aa50f802f",
   "metadata": {},
   "outputs": [
    {
     "data": {
      "text/plain": [
       "[<Node name: NAM Grid 218 - North American Mesoscale file units, content type: application/directory>]"
      ]
     },
     "execution_count": 19,
     "metadata": {},
     "output_type": "execute_result"
    }
   ],
   "source": [
    "cat._datasets"
   ]
  },
  {
   "cell_type": "code",
   "execution_count": 20,
   "id": "078f561d-35aa-4e87-b93a-95a503a8be43",
   "metadata": {},
   "outputs": [
    {
     "data": {
      "text/plain": [
       "<bound method Catalog.flat_datasets of <threddsclient.catalog.Catalog object at 0x7f3931926c20>>"
      ]
     },
     "execution_count": 20,
     "metadata": {},
     "output_type": "execute_result"
    }
   ],
   "source": [
    "cat.flat_datasets"
   ]
  },
  {
   "cell_type": "code",
   "execution_count": 21,
   "id": "10cb8f53-e6c0-4edd-bd2d-e7baf7de7c25",
   "metadata": {},
   "outputs": [
    {
     "data": {
      "text/plain": [
       "[<Node name: ALL, content type: application/service>,\n",
       " <Node name: latest, content type: application/service>]"
      ]
     },
     "execution_count": 21,
     "metadata": {},
     "output_type": "execute_result"
    }
   ],
   "source": [
    "cat.services"
   ]
  },
  {
   "cell_type": "code",
   "execution_count": 22,
   "id": "3e8fe21f-78ff-43ca-bed2-3b0cb435685c",
   "metadata": {},
   "outputs": [
    {
     "data": {
      "text/plain": [
       "[<Node name: NAM Grid 218 - North American Mesoscale file units, content type: application/directory>]"
      ]
     },
     "execution_count": 22,
     "metadata": {},
     "output_type": "execute_result"
    }
   ],
   "source": [
    "cat.datasets"
   ]
  },
  {
   "cell_type": "code",
   "execution_count": 23,
   "id": "efc87894-4565-4102-99f7-b7d5f379d9f7",
   "metadata": {},
   "outputs": [
    {
     "data": {
      "text/plain": [
       "[<Node name: NAM218 - Near Real-Time, content type: application/directory>,\n",
       " <Node name: NAM218 -  Historical, content type: application/directory>,\n",
       " <Node name: NAM Grid 218 - Analysis Only File Units, content type: application/directory>,\n",
       " <Node name: NAM Grid 218 - Analysis Only File Units, Historical, content type: application/directory>]"
      ]
     },
     "execution_count": 23,
     "metadata": {},
     "output_type": "execute_result"
    }
   ],
   "source": [
    "dataset.references"
   ]
  },
  {
   "cell_type": "code",
   "execution_count": 24,
   "id": "74193300-804e-4c71-b8d0-4f52030126e1",
   "metadata": {},
   "outputs": [],
   "source": [
    "#dataset\n",
    "near_real_time = dataset.references[0]\n",
    "historical = dataset.references[1]\n",
    "analysis_only = dataset.references[2]\n",
    "analysis_only_historical = dataset.references[3]"
   ]
  },
  {
   "cell_type": "code",
   "execution_count": 35,
   "id": "ae53d48d-58bc-48c9-befa-a971c59a2815",
   "metadata": {},
   "outputs": [
    {
     "data": {
      "text/plain": [
       "'/thredds/catalog/model-nam218/catalog.xml'"
      ]
     },
     "execution_count": 35,
     "metadata": {},
     "output_type": "execute_result"
    }
   ],
   "source": [
    "near_real_time.href"
   ]
  },
  {
   "cell_type": "code",
   "execution_count": 36,
   "id": "2f581600-9edc-4040-9e5e-e50c4147377a",
   "metadata": {},
   "outputs": [
    {
     "data": {
      "text/plain": [
       "<catalogRef name=\"\" xlink:href=\"/thredds/catalog/model-nam218/catalog.xml\" xlink:title=\"NAM218 - Near Real-Time\">\n",
       "<metadata inherited=\"true\">\n",
       "<serviceName>ALL</serviceName>\n",
       "<dataType>GRID</dataType>\n",
       "</metadata>\n",
       "<property name=\"DatasetScan\" value=\"true\"/>\n",
       "</catalogRef>"
      ]
     },
     "execution_count": 36,
     "metadata": {},
     "output_type": "execute_result"
    }
   ],
   "source": [
    "near_real_time.soup"
   ]
  },
  {
   "cell_type": "code",
   "execution_count": 40,
   "id": "160b48eb-8216-4eab-9cfb-b01a8d198efd",
   "metadata": {},
   "outputs": [
    {
     "data": {
      "text/plain": [
       "'application/directory'"
      ]
     },
     "execution_count": 40,
     "metadata": {},
     "output_type": "execute_result"
    }
   ],
   "source": [
    "near_real_time.content_type"
   ]
  },
  {
   "cell_type": "code",
   "execution_count": 45,
   "id": "50510960-89ab-4b71-9439-51453d4d83df",
   "metadata": {},
   "outputs": [
    {
     "data": {
      "text/plain": [
       "['__class__',\n",
       " '__delattr__',\n",
       " '__dict__',\n",
       " '__dir__',\n",
       " '__doc__',\n",
       " '__eq__',\n",
       " '__format__',\n",
       " '__ge__',\n",
       " '__getattribute__',\n",
       " '__gt__',\n",
       " '__hash__',\n",
       " '__init__',\n",
       " '__init_subclass__',\n",
       " '__le__',\n",
       " '__lt__',\n",
       " '__module__',\n",
       " '__ne__',\n",
       " '__new__',\n",
       " '__reduce__',\n",
       " '__reduce_ex__',\n",
       " '__repr__',\n",
       " '__setattr__',\n",
       " '__sizeof__',\n",
       " '__str__',\n",
       " '__subclasshook__',\n",
       " '__weakref__',\n",
       " '_datasets',\n",
       " '_references',\n",
       " '_services',\n",
       " 'datasets',\n",
       " 'download_urls',\n",
       " 'flat_datasets',\n",
       " 'flat_references',\n",
       " 'get_services',\n",
       " 'name',\n",
       " 'opendap_urls',\n",
       " 'references',\n",
       " 'services',\n",
       " 'skip',\n",
       " 'soup',\n",
       " 'url']"
      ]
     },
     "execution_count": 45,
     "metadata": {},
     "output_type": "execute_result"
    }
   ],
   "source": [
    "near_real_time_follow = near_real_time.follow()\n",
    "dir(near_real_time_follow)"
   ]
  },
  {
   "cell_type": "code",
   "execution_count": 47,
   "id": "608c22c3-f435-4683-b3ac-14d9ce70c911",
   "metadata": {},
   "outputs": [
    {
     "data": {
      "text/plain": [
       "[<Node name: NAM218 - Near Real-Time, content type: application/directory>]"
      ]
     },
     "execution_count": 47,
     "metadata": {},
     "output_type": "execute_result"
    }
   ],
   "source": [
    "near_real_time_follow.datasets"
   ]
  },
  {
   "cell_type": "code",
   "execution_count": null,
   "id": "74639446-737c-4867-8d51-463d808e9483",
   "metadata": {},
   "outputs": [],
   "source": []
  }
 ],
 "metadata": {
  "kernelspec": {
   "display_name": "Python 3 (ipykernel)",
   "language": "python",
   "name": "python3"
  },
  "language_info": {
   "codemirror_mode": {
    "name": "ipython",
    "version": 3
   },
   "file_extension": ".py",
   "mimetype": "text/x-python",
   "name": "python",
   "nbconvert_exporter": "python",
   "pygments_lexer": "ipython3",
   "version": "3.10.12"
  }
 },
 "nbformat": 4,
 "nbformat_minor": 5
}
