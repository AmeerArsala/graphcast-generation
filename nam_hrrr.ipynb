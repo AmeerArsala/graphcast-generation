{
 "cells": [
  {
   "cell_type": "code",
   "execution_count": 1,
   "id": "fb5151ec-1be4-4ddb-b712-f54b1655bc41",
   "metadata": {},
   "outputs": [
    {
     "data": {
      "text/plain": [
       "'gpu'"
      ]
     },
     "execution_count": 1,
     "metadata": {},
     "output_type": "execute_result"
    }
   ],
   "source": [
    "import jax\n",
    "import jax.numpy as jnp\n",
    "import threddsclient\n",
    "\n",
    "\n",
    "jax.default_backend()"
   ]
  },
  {
   "cell_type": "code",
   "execution_count": 2,
   "id": "849b254a-4a3a-4efb-8a45-4d5f32213590",
   "metadata": {},
   "outputs": [
    {
     "ename": "RuntimeError",
     "evalue": "Cannot find the ecCodes library",
     "output_type": "error",
     "traceback": [
      "\u001b[0;31m---------------------------------------------------------------------------\u001b[0m",
      "\u001b[0;31mRuntimeError\u001b[0m                              Traceback (most recent call last)",
      "Cell \u001b[0;32mIn[2], line 1\u001b[0m\n\u001b[0;32m----> 1\u001b[0m \u001b[38;5;28;01mfrom\u001b[39;00m \u001b[38;5;21;01mherbie\u001b[39;00m \u001b[38;5;28;01mimport\u001b[39;00m Herbie\n\u001b[1;32m      3\u001b[0m H \u001b[38;5;241m=\u001b[39m Herbie(\n\u001b[1;32m      4\u001b[0m     \u001b[38;5;124m'\u001b[39m\u001b[38;5;124m2021-01-01 12:00\u001b[39m\u001b[38;5;124m'\u001b[39m,  \u001b[38;5;66;03m# date & time\u001b[39;00m\n\u001b[1;32m      5\u001b[0m     model\u001b[38;5;241m=\u001b[39m\u001b[38;5;124m'\u001b[39m\u001b[38;5;124mhrrr\u001b[39m\u001b[38;5;124m'\u001b[39m,        \u001b[38;5;66;03m# weather prediction model\u001b[39;00m\n\u001b[1;32m      6\u001b[0m     product\u001b[38;5;241m=\u001b[39m\u001b[38;5;124m'\u001b[39m\u001b[38;5;124msfc\u001b[39m\u001b[38;5;124m'\u001b[39m,       \u001b[38;5;66;03m# surface fields\u001b[39;00m\n\u001b[1;32m      7\u001b[0m     fxx\u001b[38;5;241m=\u001b[39m\u001b[38;5;241m6\u001b[39m                \u001b[38;5;66;03m# forecast lead time: 6 hours\u001b[39;00m\n\u001b[1;32m      8\u001b[0m )\n",
      "File \u001b[0;32m~/micromamba/envs/graphcast_env/lib/python3.10/site-packages/herbie/__init__.py:196\u001b[0m\n\u001b[1;32m    187\u001b[0m     config[\u001b[38;5;124m\"\u001b[39m\u001b[38;5;124mdefault\u001b[39m\u001b[38;5;124m\"\u001b[39m][\u001b[38;5;124m\"\u001b[39m\u001b[38;5;124msave_dir\u001b[39m\u001b[38;5;124m\"\u001b[39m] \u001b[38;5;241m=\u001b[39m Path(os\u001b[38;5;241m.\u001b[39mgetenv(\u001b[38;5;124m\"\u001b[39m\u001b[38;5;124mHERBIE_SAVE_DIR\u001b[39m\u001b[38;5;124m\"\u001b[39m))\u001b[38;5;241m.\u001b[39mexpand()\n\u001b[1;32m    188\u001b[0m     \u001b[38;5;28mprint\u001b[39m(\n\u001b[1;32m    189\u001b[0m         \u001b[38;5;124mf\u001b[39m\u001b[38;5;124m\"\u001b[39m\u001b[38;5;124m ╭─\u001b[39m\u001b[38;5;132;01m{\u001b[39;00mANSI\u001b[38;5;241m.\u001b[39mherbie\u001b[38;5;132;01m}\u001b[39;00m\u001b[38;5;124m─────────────────────────────────────────────╮\u001b[39m\u001b[38;5;130;01m\\n\u001b[39;00m\u001b[38;5;124m\"\u001b[39m\n\u001b[1;32m    190\u001b[0m         \u001b[38;5;124mf\u001b[39m\u001b[38;5;124m\"\u001b[39m\u001b[38;5;124m │ INFO: Overriding the configured save_dir because the │\u001b[39m\u001b[38;5;130;01m\\n\u001b[39;00m\u001b[38;5;124m\"\u001b[39m\n\u001b[0;32m   (...)\u001b[0m\n\u001b[1;32m    193\u001b[0m         \u001b[38;5;124mf\u001b[39m\u001b[38;5;124m\"\u001b[39m\u001b[38;5;124m ╰──────────────────────────────────────────────────────╯\u001b[39m\u001b[38;5;130;01m\\n\u001b[39;00m\u001b[38;5;124m\"\u001b[39m\n\u001b[1;32m    194\u001b[0m     )\n\u001b[0;32m--> 196\u001b[0m \u001b[38;5;28;01mfrom\u001b[39;00m \u001b[38;5;21;01mherbie\u001b[39;00m\u001b[38;5;21;01m.\u001b[39;00m\u001b[38;5;21;01mcore\u001b[39;00m \u001b[38;5;28;01mimport\u001b[39;00m Herbie\n\u001b[1;32m    197\u001b[0m \u001b[38;5;28;01mfrom\u001b[39;00m \u001b[38;5;21;01mherbie\u001b[39;00m\u001b[38;5;21;01m.\u001b[39;00m\u001b[38;5;21;01mfast\u001b[39;00m \u001b[38;5;28;01mimport\u001b[39;00m FastHerbie\n\u001b[1;32m    198\u001b[0m \u001b[38;5;28;01mfrom\u001b[39;00m \u001b[38;5;21;01mherbie\u001b[39;00m\u001b[38;5;21;01m.\u001b[39;00m\u001b[38;5;21;01mlatest\u001b[39;00m \u001b[38;5;28;01mimport\u001b[39;00m HerbieLatest, HerbieWait\n",
      "File \u001b[0;32m~/micromamba/envs/graphcast_env/lib/python3.10/site-packages/herbie/core.py:57\u001b[0m\n\u001b[1;32m     54\u001b[0m \u001b[38;5;28;01mfrom\u001b[39;00m \u001b[38;5;21;01mio\u001b[39;00m \u001b[38;5;28;01mimport\u001b[39;00m StringIO\n\u001b[1;32m     55\u001b[0m \u001b[38;5;28;01mfrom\u001b[39;00m \u001b[38;5;21;01mshutil\u001b[39;00m \u001b[38;5;28;01mimport\u001b[39;00m which\n\u001b[0;32m---> 57\u001b[0m \u001b[38;5;28;01mimport\u001b[39;00m \u001b[38;5;21;01mcfgrib\u001b[39;00m\n\u001b[1;32m     58\u001b[0m \u001b[38;5;28;01mimport\u001b[39;00m \u001b[38;5;21;01mpandas\u001b[39;00m \u001b[38;5;28;01mas\u001b[39;00m \u001b[38;5;21;01mpd\u001b[39;00m\n\u001b[1;32m     59\u001b[0m \u001b[38;5;28;01mimport\u001b[39;00m \u001b[38;5;21;01mpygrib\u001b[39;00m\n",
      "File \u001b[0;32m~/micromamba/envs/graphcast_env/lib/python3.10/site-packages/cfgrib/__init__.py:20\u001b[0m\n\u001b[1;32m     18\u001b[0m \u001b[38;5;66;03m# cfgrib core API depends on the ECMWF ecCodes C-library only\u001b[39;00m\n\u001b[1;32m     19\u001b[0m \u001b[38;5;28;01mfrom\u001b[39;00m \u001b[38;5;21;01m.\u001b[39;00m\u001b[38;5;21;01mabc\u001b[39;00m \u001b[38;5;28;01mimport\u001b[39;00m Field, Fieldset, Index, MappingFieldset\n\u001b[0;32m---> 20\u001b[0m \u001b[38;5;28;01mfrom\u001b[39;00m \u001b[38;5;21;01m.\u001b[39;00m\u001b[38;5;21;01mcfmessage\u001b[39;00m \u001b[38;5;28;01mimport\u001b[39;00m COMPUTED_KEYS\n\u001b[1;32m     21\u001b[0m \u001b[38;5;28;01mfrom\u001b[39;00m \u001b[38;5;21;01m.\u001b[39;00m\u001b[38;5;21;01mdataset\u001b[39;00m \u001b[38;5;28;01mimport\u001b[39;00m (\n\u001b[1;32m     22\u001b[0m     Dataset,\n\u001b[1;32m     23\u001b[0m     DatasetBuildError,\n\u001b[0;32m   (...)\u001b[0m\n\u001b[1;32m     27\u001b[0m     open_from_index,\n\u001b[1;32m     28\u001b[0m )\n\u001b[1;32m     29\u001b[0m \u001b[38;5;28;01mfrom\u001b[39;00m \u001b[38;5;21;01m.\u001b[39;00m\u001b[38;5;21;01mmessages\u001b[39;00m \u001b[38;5;28;01mimport\u001b[39;00m FieldsetIndex, FileStream, Message\n",
      "File \u001b[0;32m~/micromamba/envs/graphcast_env/lib/python3.10/site-packages/cfgrib/cfmessage.py:29\u001b[0m\n\u001b[1;32m     26\u001b[0m \u001b[38;5;28;01mimport\u001b[39;00m \u001b[38;5;21;01mattr\u001b[39;00m\n\u001b[1;32m     27\u001b[0m \u001b[38;5;28;01mimport\u001b[39;00m \u001b[38;5;21;01mnumpy\u001b[39;00m \u001b[38;5;28;01mas\u001b[39;00m \u001b[38;5;21;01mnp\u001b[39;00m\n\u001b[0;32m---> 29\u001b[0m \u001b[38;5;28;01mfrom\u001b[39;00m \u001b[38;5;21;01m.\u001b[39;00m \u001b[38;5;28;01mimport\u001b[39;00m abc, messages\n\u001b[1;32m     31\u001b[0m LOG \u001b[38;5;241m=\u001b[39m logging\u001b[38;5;241m.\u001b[39mgetLogger(\u001b[38;5;18m__name__\u001b[39m)\n\u001b[1;32m     33\u001b[0m \u001b[38;5;66;03m# taken from eccodes stepUnits.table\u001b[39;00m\n",
      "File \u001b[0;32m~/micromamba/envs/graphcast_env/lib/python3.10/site-packages/cfgrib/messages.py:28\u001b[0m\n\u001b[1;32m     25\u001b[0m \u001b[38;5;28;01mimport\u001b[39;00m \u001b[38;5;21;01mtyping\u001b[39;00m \u001b[38;5;28;01mas\u001b[39;00m \u001b[38;5;21;01mT\u001b[39;00m\n\u001b[1;32m     27\u001b[0m \u001b[38;5;28;01mimport\u001b[39;00m \u001b[38;5;21;01mattr\u001b[39;00m\n\u001b[0;32m---> 28\u001b[0m \u001b[38;5;28;01mimport\u001b[39;00m \u001b[38;5;21;01meccodes\u001b[39;00m  \u001b[38;5;66;03m# type: ignore\u001b[39;00m\n\u001b[1;32m     29\u001b[0m \u001b[38;5;28;01mimport\u001b[39;00m \u001b[38;5;21;01mnumpy\u001b[39;00m \u001b[38;5;28;01mas\u001b[39;00m \u001b[38;5;21;01mnp\u001b[39;00m\n\u001b[1;32m     31\u001b[0m \u001b[38;5;28;01mfrom\u001b[39;00m \u001b[38;5;21;01m.\u001b[39;00m \u001b[38;5;28;01mimport\u001b[39;00m abc\n",
      "File \u001b[0;32m~/micromamba/envs/graphcast_env/lib/python3.10/site-packages/eccodes/__init__.py:13\u001b[0m\n\u001b[1;32m      1\u001b[0m \u001b[38;5;66;03m#\u001b[39;00m\n\u001b[1;32m      2\u001b[0m \u001b[38;5;66;03m# (C) Copyright 2017- ECMWF.\u001b[39;00m\n\u001b[1;32m      3\u001b[0m \u001b[38;5;66;03m#\u001b[39;00m\n\u001b[0;32m   (...)\u001b[0m\n\u001b[1;32m     10\u001b[0m \u001b[38;5;66;03m#\u001b[39;00m\n\u001b[1;32m     11\u001b[0m \u001b[38;5;66;03m#\u001b[39;00m\n\u001b[0;32m---> 13\u001b[0m \u001b[38;5;28;01mfrom\u001b[39;00m \u001b[38;5;21;01m.\u001b[39;00m\u001b[38;5;21;01meccodes\u001b[39;00m \u001b[38;5;28;01mimport\u001b[39;00m \u001b[38;5;241m*\u001b[39m  \u001b[38;5;66;03m# noqa\u001b[39;00m\n\u001b[1;32m     14\u001b[0m \u001b[38;5;28;01mfrom\u001b[39;00m \u001b[38;5;21;01m.\u001b[39;00m\u001b[38;5;21;01mhighlevel\u001b[39;00m \u001b[38;5;28;01mimport\u001b[39;00m \u001b[38;5;241m*\u001b[39m  \u001b[38;5;66;03m# noqa\u001b[39;00m\n",
      "File \u001b[0;32m~/micromamba/envs/graphcast_env/lib/python3.10/site-packages/eccodes/eccodes.py:12\u001b[0m\n\u001b[1;32m      1\u001b[0m \u001b[38;5;66;03m#\u001b[39;00m\n\u001b[1;32m      2\u001b[0m \u001b[38;5;66;03m# (C) Copyright 2017- ECMWF.\u001b[39;00m\n\u001b[1;32m      3\u001b[0m \u001b[38;5;66;03m#\u001b[39;00m\n\u001b[0;32m   (...)\u001b[0m\n\u001b[1;32m     10\u001b[0m \u001b[38;5;66;03m#\u001b[39;00m\n\u001b[1;32m     11\u001b[0m \u001b[38;5;66;03m#\u001b[39;00m\n\u001b[0;32m---> 12\u001b[0m \u001b[38;5;28;01mfrom\u001b[39;00m \u001b[38;5;21;01mgribapi\u001b[39;00m \u001b[38;5;28;01mimport\u001b[39;00m (\n\u001b[1;32m     13\u001b[0m     CODES_PRODUCT_ANY,\n\u001b[1;32m     14\u001b[0m     CODES_PRODUCT_BUFR,\n\u001b[1;32m     15\u001b[0m     CODES_PRODUCT_GRIB,\n\u001b[1;32m     16\u001b[0m     CODES_PRODUCT_GTS,\n\u001b[1;32m     17\u001b[0m     CODES_PRODUCT_METAR,\n\u001b[1;32m     18\u001b[0m )\n\u001b[1;32m     19\u001b[0m \u001b[38;5;28;01mfrom\u001b[39;00m \u001b[38;5;21;01mgribapi\u001b[39;00m \u001b[38;5;28;01mimport\u001b[39;00m GRIB_CHECK \u001b[38;5;28;01mas\u001b[39;00m CODES_CHECK\n\u001b[1;32m     20\u001b[0m \u001b[38;5;28;01mfrom\u001b[39;00m \u001b[38;5;21;01mgribapi\u001b[39;00m \u001b[38;5;28;01mimport\u001b[39;00m GRIB_MISSING_DOUBLE \u001b[38;5;28;01mas\u001b[39;00m CODES_MISSING_DOUBLE\n",
      "File \u001b[0;32m~/micromamba/envs/graphcast_env/lib/python3.10/site-packages/gribapi/__init__.py:13\u001b[0m\n\u001b[1;32m      1\u001b[0m \u001b[38;5;66;03m#\u001b[39;00m\n\u001b[1;32m      2\u001b[0m \u001b[38;5;66;03m# (C) Copyright 2017- ECMWF.\u001b[39;00m\n\u001b[1;32m      3\u001b[0m \u001b[38;5;66;03m#\u001b[39;00m\n\u001b[0;32m   (...)\u001b[0m\n\u001b[1;32m     10\u001b[0m \u001b[38;5;66;03m#\u001b[39;00m\n\u001b[1;32m     11\u001b[0m \u001b[38;5;66;03m#\u001b[39;00m\n\u001b[0;32m---> 13\u001b[0m \u001b[38;5;28;01mfrom\u001b[39;00m \u001b[38;5;21;01m.\u001b[39;00m\u001b[38;5;21;01mgribapi\u001b[39;00m \u001b[38;5;28;01mimport\u001b[39;00m \u001b[38;5;241m*\u001b[39m  \u001b[38;5;66;03m# noqa\u001b[39;00m\n\u001b[1;32m     14\u001b[0m \u001b[38;5;28;01mfrom\u001b[39;00m \u001b[38;5;21;01m.\u001b[39;00m\u001b[38;5;21;01mgribapi\u001b[39;00m \u001b[38;5;28;01mimport\u001b[39;00m __version__, lib\n\u001b[1;32m     16\u001b[0m \u001b[38;5;66;03m# The minimum recommended version for the ecCodes package\u001b[39;00m\n",
      "File \u001b[0;32m~/micromamba/envs/graphcast_env/lib/python3.10/site-packages/gribapi/gribapi.py:34\u001b[0m\n\u001b[1;32m     30\u001b[0m \u001b[38;5;28;01mfrom\u001b[39;00m \u001b[38;5;21;01mfunctools\u001b[39;00m \u001b[38;5;28;01mimport\u001b[39;00m wraps\n\u001b[1;32m     32\u001b[0m \u001b[38;5;28;01mimport\u001b[39;00m \u001b[38;5;21;01mnumpy\u001b[39;00m \u001b[38;5;28;01mas\u001b[39;00m \u001b[38;5;21;01mnp\u001b[39;00m\n\u001b[0;32m---> 34\u001b[0m \u001b[38;5;28;01mfrom\u001b[39;00m \u001b[38;5;21;01mgribapi\u001b[39;00m\u001b[38;5;21;01m.\u001b[39;00m\u001b[38;5;21;01merrors\u001b[39;00m \u001b[38;5;28;01mimport\u001b[39;00m GribInternalError\n\u001b[1;32m     36\u001b[0m \u001b[38;5;28;01mfrom\u001b[39;00m \u001b[38;5;21;01m.\u001b[39;00m \u001b[38;5;28;01mimport\u001b[39;00m errors\n\u001b[1;32m     37\u001b[0m \u001b[38;5;28;01mfrom\u001b[39;00m \u001b[38;5;21;01m.\u001b[39;00m\u001b[38;5;21;01mbindings\u001b[39;00m \u001b[38;5;28;01mimport\u001b[39;00m ENC\n",
      "File \u001b[0;32m~/micromamba/envs/graphcast_env/lib/python3.10/site-packages/gribapi/errors.py:16\u001b[0m\n\u001b[1;32m      1\u001b[0m \u001b[38;5;66;03m#\u001b[39;00m\n\u001b[1;32m      2\u001b[0m \u001b[38;5;66;03m# (C) Copyright 2017- ECMWF.\u001b[39;00m\n\u001b[1;32m      3\u001b[0m \u001b[38;5;66;03m#\u001b[39;00m\n\u001b[0;32m   (...)\u001b[0m\n\u001b[1;32m      9\u001b[0m \u001b[38;5;66;03m# does it submit to any jurisdiction.\u001b[39;00m\n\u001b[1;32m     10\u001b[0m \u001b[38;5;66;03m#\u001b[39;00m\n\u001b[1;32m     12\u001b[0m \u001b[38;5;124;03m\"\"\"\u001b[39;00m\n\u001b[1;32m     13\u001b[0m \u001b[38;5;124;03mException class hierarchy\u001b[39;00m\n\u001b[1;32m     14\u001b[0m \u001b[38;5;124;03m\"\"\"\u001b[39;00m\n\u001b[0;32m---> 16\u001b[0m \u001b[38;5;28;01mfrom\u001b[39;00m \u001b[38;5;21;01m.\u001b[39;00m\u001b[38;5;21;01mbindings\u001b[39;00m \u001b[38;5;28;01mimport\u001b[39;00m ENC, ffi, lib\n\u001b[1;32m     19\u001b[0m \u001b[38;5;28;01mclass\u001b[39;00m \u001b[38;5;21;01mGribInternalError\u001b[39;00m(\u001b[38;5;167;01mException\u001b[39;00m):\n\u001b[1;32m     20\u001b[0m \u001b[38;5;250m    \u001b[39m\u001b[38;5;124;03m\"\"\"\u001b[39;00m\n\u001b[1;32m     21\u001b[0m \u001b[38;5;124;03m    @brief Wrap errors coming from the C API in a Python exception object.\u001b[39;00m\n\u001b[1;32m     22\u001b[0m \n\u001b[1;32m     23\u001b[0m \u001b[38;5;124;03m    Base class for all exceptions\u001b[39;00m\n\u001b[1;32m     24\u001b[0m \u001b[38;5;124;03m    \"\"\"\u001b[39;00m\n",
      "File \u001b[0;32m~/micromamba/envs/graphcast_env/lib/python3.10/site-packages/gribapi/bindings.py:35\u001b[0m\n\u001b[1;32m     33\u001b[0m library_path \u001b[38;5;241m=\u001b[39m findlibs\u001b[38;5;241m.\u001b[39mfind(\u001b[38;5;124m\"\u001b[39m\u001b[38;5;124meccodes\u001b[39m\u001b[38;5;124m\"\u001b[39m)\n\u001b[1;32m     34\u001b[0m \u001b[38;5;28;01mif\u001b[39;00m library_path \u001b[38;5;129;01mis\u001b[39;00m \u001b[38;5;28;01mNone\u001b[39;00m:\n\u001b[0;32m---> 35\u001b[0m     \u001b[38;5;28;01mraise\u001b[39;00m \u001b[38;5;167;01mRuntimeError\u001b[39;00m(\u001b[38;5;124m\"\u001b[39m\u001b[38;5;124mCannot find the ecCodes library\u001b[39m\u001b[38;5;124m\"\u001b[39m)\n\u001b[1;32m     37\u001b[0m \u001b[38;5;66;03m# default encoding for ecCodes strings\u001b[39;00m\n\u001b[1;32m     38\u001b[0m ENC \u001b[38;5;241m=\u001b[39m \u001b[38;5;124m\"\u001b[39m\u001b[38;5;124mascii\u001b[39m\u001b[38;5;124m\"\u001b[39m\n",
      "\u001b[0;31mRuntimeError\u001b[0m: Cannot find the ecCodes library"
     ]
    }
   ],
   "source": [
    "from herbie import Herbie\n",
    "\n",
    "H = Herbie(\n",
    "    '2021-01-01 12:00',  # date & time\n",
    "    model='hrrr',        # weather prediction model\n",
    "    product='sfc',       # surface fields\n",
    "    fxx=6                # forecast lead time: 6 hours\n",
    ")"
   ]
  },
  {
   "cell_type": "code",
   "execution_count": 2,
   "id": "3fee15dd-54e1-4767-8c17-cf7668c3cf56",
   "metadata": {},
   "outputs": [
    {
     "data": {
      "text/plain": [
       "<threddsclient.catalog.Catalog at 0x7fa25e9cfc10>"
      ]
     },
     "execution_count": 2,
     "metadata": {},
     "output_type": "execute_result"
    }
   ],
   "source": [
    "cat = threddsclient.read_url('https://www.ncei.noaa.gov/thredds/catalog/model/nam.html')\n",
    "cat"
   ]
  },
  {
   "cell_type": "code",
   "execution_count": 3,
   "id": "895adb36-2dd8-4cb1-874b-be28a1fe6832",
   "metadata": {},
   "outputs": [
    {
     "data": {
      "text/plain": [
       "['__class__',\n",
       " '__delattr__',\n",
       " '__dict__',\n",
       " '__dir__',\n",
       " '__doc__',\n",
       " '__eq__',\n",
       " '__format__',\n",
       " '__ge__',\n",
       " '__getattribute__',\n",
       " '__gt__',\n",
       " '__hash__',\n",
       " '__init__',\n",
       " '__init_subclass__',\n",
       " '__le__',\n",
       " '__lt__',\n",
       " '__module__',\n",
       " '__ne__',\n",
       " '__new__',\n",
       " '__reduce__',\n",
       " '__reduce_ex__',\n",
       " '__repr__',\n",
       " '__setattr__',\n",
       " '__sizeof__',\n",
       " '__str__',\n",
       " '__subclasshook__',\n",
       " '__weakref__',\n",
       " '_datasets',\n",
       " '_references',\n",
       " '_services',\n",
       " 'datasets',\n",
       " 'download_urls',\n",
       " 'flat_datasets',\n",
       " 'flat_references',\n",
       " 'get_services',\n",
       " 'name',\n",
       " 'opendap_urls',\n",
       " 'references',\n",
       " 'services',\n",
       " 'skip',\n",
       " 'soup',\n",
       " 'url']"
      ]
     },
     "execution_count": 3,
     "metadata": {},
     "output_type": "execute_result"
    }
   ],
   "source": [
    "dir(cat)"
   ]
  },
  {
   "cell_type": "code",
   "execution_count": 9,
   "id": "0481a135-cff1-4a4b-85f1-f11274739dad",
   "metadata": {},
   "outputs": [
    {
     "data": {
      "text/plain": [
       "<Node name: NAM Grid 218 - North American Mesoscale file units, content type: application/directory>"
      ]
     },
     "execution_count": 9,
     "metadata": {},
     "output_type": "execute_result"
    }
   ],
   "source": [
    "dataset = cat.datasets[0]\n",
    "dataset"
   ]
  },
  {
   "cell_type": "code",
   "execution_count": 10,
   "id": "3f35da83-6162-491b-8d1b-831e6087225f",
   "metadata": {},
   "outputs": [
    {
     "data": {
      "text/plain": [
       "['ID',\n",
       " '__class__',\n",
       " '__delattr__',\n",
       " '__dict__',\n",
       " '__dir__',\n",
       " '__doc__',\n",
       " '__eq__',\n",
       " '__format__',\n",
       " '__ge__',\n",
       " '__getattribute__',\n",
       " '__gt__',\n",
       " '__hash__',\n",
       " '__init__',\n",
       " '__init_subclass__',\n",
       " '__le__',\n",
       " '__lt__',\n",
       " '__module__',\n",
       " '__ne__',\n",
       " '__new__',\n",
       " '__reduce__',\n",
       " '__reduce_ex__',\n",
       " '__repr__',\n",
       " '__setattr__',\n",
       " '__sizeof__',\n",
       " '__str__',\n",
       " '__subclasshook__',\n",
       " '__weakref__',\n",
       " '_harvest',\n",
       " 'authority',\n",
       " 'bytes',\n",
       " 'catalog',\n",
       " 'collection_type',\n",
       " 'content_type',\n",
       " 'data_format_type',\n",
       " 'data_type',\n",
       " 'datasets',\n",
       " 'harvest',\n",
       " 'is_collection',\n",
       " 'modified',\n",
       " 'name',\n",
       " 'references',\n",
       " 'service_name',\n",
       " 'soup',\n",
       " 'url']"
      ]
     },
     "execution_count": 10,
     "metadata": {},
     "output_type": "execute_result"
    }
   ],
   "source": [
    "dir(dataset)"
   ]
  },
  {
   "cell_type": "code",
   "execution_count": 13,
   "id": "fb939cb4-2bea-4c6d-bad3-3be2e9e319aa",
   "metadata": {},
   "outputs": [
    {
     "data": {
      "text/plain": [
       "<bound method Catalog.download_urls of <threddsclient.catalog.Catalog object at 0x7f3931926c20>>"
      ]
     },
     "execution_count": 13,
     "metadata": {},
     "output_type": "execute_result"
    }
   ],
   "source": [
    "cat.download_urls"
   ]
  },
  {
   "cell_type": "code",
   "execution_count": 14,
   "id": "3ca275d4-4912-478b-9cc3-397c2b1b351c",
   "metadata": {},
   "outputs": [
    {
     "data": {
      "text/plain": [
       "'https://www.ncei.noaa.gov/thredds/catalog/model/nam.xml?dataset=None'"
      ]
     },
     "execution_count": 14,
     "metadata": {},
     "output_type": "execute_result"
    }
   ],
   "source": [
    "dataset.url"
   ]
  },
  {
   "cell_type": "code",
   "execution_count": 15,
   "id": "4bc38787-86e0-4a69-90c4-50e8818f87c2",
   "metadata": {},
   "outputs": [
    {
     "data": {
      "text/plain": [
       "['__call__',\n",
       " '__class__',\n",
       " '__delattr__',\n",
       " '__dir__',\n",
       " '__doc__',\n",
       " '__eq__',\n",
       " '__format__',\n",
       " '__func__',\n",
       " '__ge__',\n",
       " '__get__',\n",
       " '__getattribute__',\n",
       " '__gt__',\n",
       " '__hash__',\n",
       " '__init__',\n",
       " '__init_subclass__',\n",
       " '__le__',\n",
       " '__lt__',\n",
       " '__ne__',\n",
       " '__new__',\n",
       " '__reduce__',\n",
       " '__reduce_ex__',\n",
       " '__repr__',\n",
       " '__self__',\n",
       " '__setattr__',\n",
       " '__sizeof__',\n",
       " '__str__',\n",
       " '__subclasshook__']"
      ]
     },
     "execution_count": 15,
     "metadata": {},
     "output_type": "execute_result"
    }
   ],
   "source": [
    "dir(cat.download_urls)"
   ]
  },
  {
   "cell_type": "code",
   "execution_count": 17,
   "id": "36dc9b5f-c222-4f3c-83e3-ca95abfa93a9",
   "metadata": {},
   "outputs": [
    {
     "ename": "TypeError",
     "evalue": "'method' object is not subscriptable",
     "output_type": "error",
     "traceback": [
      "\u001b[0;31m---------------------------------------------------------------------------\u001b[0m",
      "\u001b[0;31mTypeError\u001b[0m                                 Traceback (most recent call last)",
      "Cell \u001b[0;32mIn[17], line 1\u001b[0m\n\u001b[0;32m----> 1\u001b[0m \u001b[43mcat\u001b[49m\u001b[38;5;241;43m.\u001b[39;49m\u001b[43mdownload_urls\u001b[49m\u001b[43m[\u001b[49m\u001b[38;5;241;43m0\u001b[39;49m\u001b[43m]\u001b[49m\n",
      "\u001b[0;31mTypeError\u001b[0m: 'method' object is not subscriptable"
     ]
    }
   ],
   "source": [
    "cat.download_urls[0]"
   ]
  },
  {
   "cell_type": "code",
   "execution_count": 18,
   "id": "b6b63448-f75a-42b8-a529-c94b56e96c97",
   "metadata": {},
   "outputs": [
    {
     "data": {
      "text/plain": [
       "{'_datasets',\n",
       " '_references',\n",
       " '_services',\n",
       " 'download_urls',\n",
       " 'flat_datasets',\n",
       " 'flat_references',\n",
       " 'get_services',\n",
       " 'opendap_urls',\n",
       " 'services',\n",
       " 'skip'}"
      ]
     },
     "execution_count": 18,
     "metadata": {},
     "output_type": "execute_result"
    }
   ],
   "source": [
    "set(dir(cat)) - set(dir(dataset))"
   ]
  },
  {
   "cell_type": "code",
   "execution_count": 19,
   "id": "7f8f9d0b-5840-4e1c-ba00-dc1aa50f802f",
   "metadata": {},
   "outputs": [
    {
     "data": {
      "text/plain": [
       "[<Node name: NAM Grid 218 - North American Mesoscale file units, content type: application/directory>]"
      ]
     },
     "execution_count": 19,
     "metadata": {},
     "output_type": "execute_result"
    }
   ],
   "source": [
    "cat._datasets"
   ]
  },
  {
   "cell_type": "code",
   "execution_count": 20,
   "id": "078f561d-35aa-4e87-b93a-95a503a8be43",
   "metadata": {},
   "outputs": [
    {
     "data": {
      "text/plain": [
       "<bound method Catalog.flat_datasets of <threddsclient.catalog.Catalog object at 0x7f3931926c20>>"
      ]
     },
     "execution_count": 20,
     "metadata": {},
     "output_type": "execute_result"
    }
   ],
   "source": [
    "cat.flat_datasets"
   ]
  },
  {
   "cell_type": "code",
   "execution_count": 21,
   "id": "10cb8f53-e6c0-4edd-bd2d-e7baf7de7c25",
   "metadata": {},
   "outputs": [
    {
     "data": {
      "text/plain": [
       "[<Node name: ALL, content type: application/service>,\n",
       " <Node name: latest, content type: application/service>]"
      ]
     },
     "execution_count": 21,
     "metadata": {},
     "output_type": "execute_result"
    }
   ],
   "source": [
    "cat.services"
   ]
  },
  {
   "cell_type": "code",
   "execution_count": 22,
   "id": "3e8fe21f-78ff-43ca-bed2-3b0cb435685c",
   "metadata": {},
   "outputs": [
    {
     "data": {
      "text/plain": [
       "[<Node name: NAM Grid 218 - North American Mesoscale file units, content type: application/directory>]"
      ]
     },
     "execution_count": 22,
     "metadata": {},
     "output_type": "execute_result"
    }
   ],
   "source": [
    "cat.datasets"
   ]
  },
  {
   "cell_type": "code",
   "execution_count": 23,
   "id": "efc87894-4565-4102-99f7-b7d5f379d9f7",
   "metadata": {},
   "outputs": [
    {
     "data": {
      "text/plain": [
       "[<Node name: NAM218 - Near Real-Time, content type: application/directory>,\n",
       " <Node name: NAM218 -  Historical, content type: application/directory>,\n",
       " <Node name: NAM Grid 218 - Analysis Only File Units, content type: application/directory>,\n",
       " <Node name: NAM Grid 218 - Analysis Only File Units, Historical, content type: application/directory>]"
      ]
     },
     "execution_count": 23,
     "metadata": {},
     "output_type": "execute_result"
    }
   ],
   "source": [
    "dataset.references"
   ]
  },
  {
   "cell_type": "code",
   "execution_count": 24,
   "id": "74193300-804e-4c71-b8d0-4f52030126e1",
   "metadata": {},
   "outputs": [],
   "source": [
    "#dataset\n",
    "near_real_time = dataset.references[0]\n",
    "historical = dataset.references[1]\n",
    "analysis_only = dataset.references[2]\n",
    "analysis_only_historical = dataset.references[3]"
   ]
  },
  {
   "cell_type": "code",
   "execution_count": 35,
   "id": "ae53d48d-58bc-48c9-befa-a971c59a2815",
   "metadata": {},
   "outputs": [
    {
     "data": {
      "text/plain": [
       "'/thredds/catalog/model-nam218/catalog.xml'"
      ]
     },
     "execution_count": 35,
     "metadata": {},
     "output_type": "execute_result"
    }
   ],
   "source": [
    "near_real_time.href"
   ]
  },
  {
   "cell_type": "code",
   "execution_count": 36,
   "id": "2f581600-9edc-4040-9e5e-e50c4147377a",
   "metadata": {},
   "outputs": [
    {
     "data": {
      "text/plain": [
       "<catalogRef name=\"\" xlink:href=\"/thredds/catalog/model-nam218/catalog.xml\" xlink:title=\"NAM218 - Near Real-Time\">\n",
       "<metadata inherited=\"true\">\n",
       "<serviceName>ALL</serviceName>\n",
       "<dataType>GRID</dataType>\n",
       "</metadata>\n",
       "<property name=\"DatasetScan\" value=\"true\"/>\n",
       "</catalogRef>"
      ]
     },
     "execution_count": 36,
     "metadata": {},
     "output_type": "execute_result"
    }
   ],
   "source": [
    "near_real_time.soup"
   ]
  },
  {
   "cell_type": "code",
   "execution_count": 40,
   "id": "160b48eb-8216-4eab-9cfb-b01a8d198efd",
   "metadata": {},
   "outputs": [
    {
     "data": {
      "text/plain": [
       "'application/directory'"
      ]
     },
     "execution_count": 40,
     "metadata": {},
     "output_type": "execute_result"
    }
   ],
   "source": [
    "near_real_time.content_type"
   ]
  },
  {
   "cell_type": "code",
   "execution_count": 45,
   "id": "50510960-89ab-4b71-9439-51453d4d83df",
   "metadata": {},
   "outputs": [
    {
     "data": {
      "text/plain": [
       "['__class__',\n",
       " '__delattr__',\n",
       " '__dict__',\n",
       " '__dir__',\n",
       " '__doc__',\n",
       " '__eq__',\n",
       " '__format__',\n",
       " '__ge__',\n",
       " '__getattribute__',\n",
       " '__gt__',\n",
       " '__hash__',\n",
       " '__init__',\n",
       " '__init_subclass__',\n",
       " '__le__',\n",
       " '__lt__',\n",
       " '__module__',\n",
       " '__ne__',\n",
       " '__new__',\n",
       " '__reduce__',\n",
       " '__reduce_ex__',\n",
       " '__repr__',\n",
       " '__setattr__',\n",
       " '__sizeof__',\n",
       " '__str__',\n",
       " '__subclasshook__',\n",
       " '__weakref__',\n",
       " '_datasets',\n",
       " '_references',\n",
       " '_services',\n",
       " 'datasets',\n",
       " 'download_urls',\n",
       " 'flat_datasets',\n",
       " 'flat_references',\n",
       " 'get_services',\n",
       " 'name',\n",
       " 'opendap_urls',\n",
       " 'references',\n",
       " 'services',\n",
       " 'skip',\n",
       " 'soup',\n",
       " 'url']"
      ]
     },
     "execution_count": 45,
     "metadata": {},
     "output_type": "execute_result"
    }
   ],
   "source": [
    "near_real_time_follow = near_real_time.follow()\n",
    "dir(near_real_time_follow)"
   ]
  },
  {
   "cell_type": "code",
   "execution_count": 47,
   "id": "608c22c3-f435-4683-b3ac-14d9ce70c911",
   "metadata": {},
   "outputs": [
    {
     "data": {
      "text/plain": [
       "[<Node name: NAM218 - Near Real-Time, content type: application/directory>]"
      ]
     },
     "execution_count": 47,
     "metadata": {},
     "output_type": "execute_result"
    }
   ],
   "source": [
    "near_real_time_follow.datasets"
   ]
  },
  {
   "cell_type": "code",
   "execution_count": null,
   "id": "74639446-737c-4867-8d51-463d808e9483",
   "metadata": {},
   "outputs": [],
   "source": []
  }
 ],
 "metadata": {
  "kernelspec": {
   "display_name": "Python 3 (ipykernel)",
   "language": "python",
   "name": "python3"
  },
  "language_info": {
   "codemirror_mode": {
    "name": "ipython",
    "version": 3
   },
   "file_extension": ".py",
   "mimetype": "text/x-python",
   "name": "python",
   "nbconvert_exporter": "python",
   "pygments_lexer": "ipython3",
   "version": "3.10.12"
  }
 },
 "nbformat": 4,
 "nbformat_minor": 5
}
