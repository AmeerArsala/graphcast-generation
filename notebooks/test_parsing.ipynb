{
 "cells": [
  {
   "cell_type": "code",
   "execution_count": 19,
   "metadata": {},
   "outputs": [
    {
     "name": "stdout",
     "output_type": "stream",
     "text": [
      "✅ Found ┊ model=hrrr ┊ \u001b[3mproduct=sfc\u001b[0m ┊ \u001b[38;2;41;130;13m2021-Jan-01 01:31 UTC\u001b[92m F06\u001b[0m ┊ \u001b[38;2;255;153;0m\u001b[3mGRIB2 @ aws\u001b[0m ┊ \u001b[38;2;255;153;0m\u001b[3mIDX @ aws\u001b[0m\n"
     ]
    }
   ],
   "source": [
    "import pandas as pd\n",
    "from herbie import Herbie, FastHerbie\n",
    "\n",
    "\n",
    "date_time: str = '2021-01-01 1:31:19.2913102301293019230'\n",
    "model = 'hrrr'\n",
    "product = 'sfc'  # surface fields\n",
    "\n",
    "H = Herbie(\n",
    "    date_time,        # date & time\n",
    "    model=model,      # weather prediction model\n",
    "    product=product,\n",
    "    fxx=6             # forecast lead time: 6 hours\n",
    ")\n",
    "\n",
    "# Each hour for the last 6 hours\n",
    "# DATES = pd.date_range(\n",
    "#     start=date_time,\n",
    "#     periods=6,\n",
    "#     freq=\"1h\"\n",
    "# )"
   ]
  },
  {
   "cell_type": "code",
   "execution_count": 20,
   "metadata": {},
   "outputs": [
    {
     "name": "stdout",
     "output_type": "stream",
     "text": [
      "Note: Returning a list of [3] xarray.Datasets because cfgrib opened with multiple hypercubes.\n"
     ]
    }
   ],
   "source": [
    "temp = H.xarray(\":(?:TMP):\")\n"
   ]
  },
  {
   "cell_type": "code",
   "execution_count": 21,
   "metadata": {},
   "outputs": [
    {
     "data": {
      "text/plain": [
       "'01:00:00.000000000'"
      ]
     },
     "execution_count": 21,
     "metadata": {},
     "output_type": "execute_result"
    }
   ],
   "source": [
    "start_date, start_time = str(temp[0].time.data).split(\"T\")\n",
    "start_time"
   ]
  },
  {
   "cell_type": "code",
   "execution_count": 14,
   "metadata": {},
   "outputs": [
    {
     "data": {
      "text/plain": [
       "'12:00:00.000000000'"
      ]
     },
     "execution_count": 14,
     "metadata": {},
     "output_type": "execute_result"
    }
   ],
   "source": [
    "start_date, start_time = str(temp[0].time.data).split(\"T\")\n",
    "start_time"
   ]
  },
  {
   "cell_type": "code",
   "execution_count": 27,
   "metadata": {},
   "outputs": [
    {
     "ename": "Exception",
     "evalue": "Missing/incomplete configuration file: C:\\Users\\camer/.cdsapirc",
     "output_type": "error",
     "traceback": [
      "\u001b[1;31m---------------------------------------------------------------------------\u001b[0m",
      "\u001b[1;31mException\u001b[0m                                 Traceback (most recent call last)",
      "Cell \u001b[1;32mIn[27], line 2\u001b[0m\n\u001b[0;32m      1\u001b[0m \u001b[38;5;28;01mimport\u001b[39;00m \u001b[38;5;21;01mcdsapi\u001b[39;00m\n\u001b[1;32m----> 2\u001b[0m c \u001b[38;5;241m=\u001b[39m \u001b[43mcdsapi\u001b[49m\u001b[38;5;241;43m.\u001b[39;49m\u001b[43mClient\u001b[49m\u001b[43m(\u001b[49m\u001b[43m)\u001b[49m\n\u001b[0;32m      3\u001b[0m c\u001b[38;5;241m.\u001b[39mretrieve(\u001b[38;5;124m'\u001b[39m\u001b[38;5;124mreanalysis-era5-single-levels\u001b[39m\u001b[38;5;124m'\u001b[39m,\n\u001b[0;32m      4\u001b[0m            {\n\u001b[0;32m      5\u001b[0m                \u001b[38;5;124m'\u001b[39m\u001b[38;5;124mproduct_type\u001b[39m\u001b[38;5;124m'\u001b[39m: \u001b[38;5;124m'\u001b[39m\u001b[38;5;124mreanalysis\u001b[39m\u001b[38;5;124m'\u001b[39m,\n\u001b[0;32m      6\u001b[0m                \u001b[38;5;124m'\u001b[39m\u001b[38;5;124mformat\u001b[39m\u001b[38;5;124m'\u001b[39m: \u001b[38;5;124m'\u001b[39m\u001b[38;5;124mgrib\u001b[39m\u001b[38;5;124m'\u001b[39m,\n\u001b[0;32m      7\u001b[0m            },\n\u001b[0;32m      8\u001b[0m            \u001b[38;5;124m'\u001b[39m\u001b[38;5;124mdownload.grib\u001b[39m\u001b[38;5;124m'\u001b[39m)\n",
      "File \u001b[1;32mc:\\Users\\camer\\anaconda3\\envs\\weather\\lib\\site-packages\\cdsapi\\api.py:281\u001b[0m, in \u001b[0;36mClient.__new__\u001b[1;34m(cls, url, key, *args, **kwargs)\u001b[0m\n\u001b[0;32m    280\u001b[0m \u001b[38;5;28;01mdef\u001b[39;00m \u001b[38;5;21m__new__\u001b[39m(\u001b[38;5;28mcls\u001b[39m, url\u001b[38;5;241m=\u001b[39m\u001b[38;5;28;01mNone\u001b[39;00m, key\u001b[38;5;241m=\u001b[39m\u001b[38;5;28;01mNone\u001b[39;00m, \u001b[38;5;241m*\u001b[39margs, \u001b[38;5;241m*\u001b[39m\u001b[38;5;241m*\u001b[39mkwargs):\n\u001b[1;32m--> 281\u001b[0m     _, token, _ \u001b[38;5;241m=\u001b[39m \u001b[43mget_url_key_verify\u001b[49m\u001b[43m(\u001b[49m\u001b[43murl\u001b[49m\u001b[43m,\u001b[49m\u001b[43m \u001b[49m\u001b[43mkey\u001b[49m\u001b[43m,\u001b[49m\u001b[43m \u001b[49m\u001b[38;5;28;43;01mNone\u001b[39;49;00m\u001b[43m)\u001b[49m\n\u001b[0;32m    282\u001b[0m     \u001b[38;5;28;01mif\u001b[39;00m \u001b[38;5;124m\"\u001b[39m\u001b[38;5;124m:\u001b[39m\u001b[38;5;124m\"\u001b[39m \u001b[38;5;129;01min\u001b[39;00m token:\n\u001b[0;32m    283\u001b[0m         \u001b[38;5;28;01mreturn\u001b[39;00m \u001b[38;5;28msuper\u001b[39m()\u001b[38;5;241m.\u001b[39m\u001b[38;5;21m__new__\u001b[39m(\u001b[38;5;28mcls\u001b[39m)\n",
      "File \u001b[1;32mc:\\Users\\camer\\anaconda3\\envs\\weather\\lib\\site-packages\\cdsapi\\api.py:69\u001b[0m, in \u001b[0;36mget_url_key_verify\u001b[1;34m(url, key, verify)\u001b[0m\n\u001b[0;32m     66\u001b[0m             verify \u001b[38;5;241m=\u001b[39m \u001b[38;5;28mbool\u001b[39m(\u001b[38;5;28mint\u001b[39m(config\u001b[38;5;241m.\u001b[39mget(\u001b[38;5;124m\"\u001b[39m\u001b[38;5;124mverify\u001b[39m\u001b[38;5;124m\"\u001b[39m, \u001b[38;5;241m1\u001b[39m)))\n\u001b[0;32m     68\u001b[0m \u001b[38;5;28;01mif\u001b[39;00m url \u001b[38;5;129;01mis\u001b[39;00m \u001b[38;5;28;01mNone\u001b[39;00m \u001b[38;5;129;01mor\u001b[39;00m key \u001b[38;5;129;01mis\u001b[39;00m \u001b[38;5;28;01mNone\u001b[39;00m \u001b[38;5;129;01mor\u001b[39;00m key \u001b[38;5;129;01mis\u001b[39;00m \u001b[38;5;28;01mNone\u001b[39;00m:\n\u001b[1;32m---> 69\u001b[0m     \u001b[38;5;28;01mraise\u001b[39;00m \u001b[38;5;167;01mException\u001b[39;00m(\u001b[38;5;124m\"\u001b[39m\u001b[38;5;124mMissing/incomplete configuration file: \u001b[39m\u001b[38;5;132;01m%s\u001b[39;00m\u001b[38;5;124m\"\u001b[39m \u001b[38;5;241m%\u001b[39m (dotrc))\n\u001b[0;32m     71\u001b[0m \u001b[38;5;66;03m# If verify is still None, then we set to default value of True\u001b[39;00m\n\u001b[0;32m     72\u001b[0m \u001b[38;5;28;01mif\u001b[39;00m verify \u001b[38;5;129;01mis\u001b[39;00m \u001b[38;5;28;01mNone\u001b[39;00m:\n",
      "\u001b[1;31mException\u001b[0m: Missing/incomplete configuration file: C:\\Users\\camer/.cdsapirc"
     ]
    }
   ],
   "source": [
    "import cdsapi\n",
    "c = cdsapi.Client()\n",
    "c.retrieve('reanalysis-era5-single-levels',\n",
    "           {\n",
    "               'product_type': 'reanalysis',\n",
    "               'format': 'grib',\n",
    "           },\n",
    "           'download.grib')"
   ]
  },
  {
   "cell_type": "code",
   "execution_count": 44,
   "metadata": {},
   "outputs": [
    {
     "name": "stderr",
     "output_type": "stream",
     "text": [
      "2024-05-06 20:24:00,925 DEBUG CDSAPI {'url': 'https://cds.climate.copernicus.eu/api/v2', 'key': '308352:704f911a-0b2a-427f-ac5b-c9afd4084f09', 'quiet': False, 'verify': True, 'timeout': 60, 'progress': True, 'sleep_max': 120, 'retry_max': 500, 'full_stack': False, 'delete': True, 'metadata': None, 'forget': False}\n",
      "2024-05-06 20:24:01,959 INFO Welcome to the CDS\n",
      "2024-05-06 20:24:01,959 INFO Sending request to https://cds.climate.copernicus.eu/api/v2/resources/reanalysis-era5-pressure-levels\n",
      "2024-05-06 20:24:01,960 DEBUG POST https://cds.climate.copernicus.eu/api/v2/resources/reanalysis-era5-pressure-levels {\"variable\": \"temperature\", \"pressure_level\": \"1000\", \"product_type\": \"reanalysis\", \"date\": \"2017-12-01/2017-12-31\", \"time\": \"12:00\", \"format\": \"netcdf\"}\n",
      "2024-05-06 20:24:02,205 DEBUG REPLY {'state': 'queued', 'request_id': 'efda1347-95c1-4b88-86a1-935c4c838da3', 'specific_metadata_json': {'top_request_origin': 'api'}}\n",
      "2024-05-06 20:24:02,206 INFO Request is queued\n",
      "2024-05-06 20:24:02,206 DEBUG Request ID is efda1347-95c1-4b88-86a1-935c4c838da3, sleep 1\n",
      "2024-05-06 20:24:03,219 DEBUG GET https://cds.climate.copernicus.eu/api/v2/tasks/efda1347-95c1-4b88-86a1-935c4c838da3\n",
      "2024-05-06 20:24:03,397 DEBUG REPLY {'state': 'running', 'request_id': 'efda1347-95c1-4b88-86a1-935c4c838da3', 'sent_to_rmq_at': '2024-05-07T03:24:01.938Z', 'specific_metadata_json': {'top_request_origin': 'api'}}\n",
      "2024-05-06 20:24:03,398 INFO Request is running\n",
      "2024-05-06 20:24:03,398 DEBUG Request ID is efda1347-95c1-4b88-86a1-935c4c838da3, sleep 1.5\n",
      "2024-05-06 20:24:04,903 DEBUG GET https://cds.climate.copernicus.eu/api/v2/tasks/efda1347-95c1-4b88-86a1-935c4c838da3\n",
      "2024-05-06 20:24:05,081 DEBUG REPLY {'state': 'running', 'request_id': 'efda1347-95c1-4b88-86a1-935c4c838da3', 'sent_to_rmq_at': '2024-05-07T03:24:01.938Z', 'specific_metadata_json': {'top_request_origin': 'api'}}\n",
      "2024-05-06 20:24:05,083 DEBUG Request ID is efda1347-95c1-4b88-86a1-935c4c838da3, sleep 2.25\n",
      "2024-05-06 20:24:07,346 DEBUG GET https://cds.climate.copernicus.eu/api/v2/tasks/efda1347-95c1-4b88-86a1-935c4c838da3\n",
      "2024-05-06 20:24:07,523 DEBUG REPLY {'state': 'completed', 'request_id': 'efda1347-95c1-4b88-86a1-935c4c838da3', 'location': 'https://download-0009-clone.copernicus-climate.eu/cache-compute-0009/cache/data4/adaptor.mars.internal-1715052244.4015183-1297-19-efda1347-95c1-4b88-86a1-935c4c838da3.nc', 'content_length': 64380752, 'content_type': 'application/x-netcdf', 'sent_to_rmq_at': '2024-05-07T03:24:01.938Z', 'specific_metadata_json': {'top_request_origin': 'api'}}\n",
      "2024-05-06 20:24:07,524 INFO Request is completed\n",
      "2024-05-06 20:24:07,525 DEBUG Done\n",
      "2024-05-06 20:24:07,525 INFO Downloading https://download-0009-clone.copernicus-climate.eu/cache-compute-0009/cache/data4/adaptor.mars.internal-1715052244.4015183-1297-19-efda1347-95c1-4b88-86a1-935c4c838da3.nc to download.nc (61.4M)\n",
      "2024-05-06 20:24:23,397 INFO Download rate 3.9M/s   \n"
     ]
    },
    {
     "data": {
      "text/plain": [
       "Result(content_length=64380752,content_type=application/x-netcdf,location=https://download-0009-clone.copernicus-climate.eu/cache-compute-0009/cache/data4/adaptor.mars.internal-1715052244.4015183-1297-19-efda1347-95c1-4b88-86a1-935c4c838da3.nc)"
      ]
     },
     "execution_count": 44,
     "metadata": {},
     "output_type": "execute_result"
    }
   ],
   "source": [
    "import cdsapi\n",
    "\n",
    "cds = cdsapi.Client(url=\"https://cds.climate.copernicus.eu/api/v2\", key = \"308352:704f911a-0b2a-427f-ac5b-c9afd4084f09\")\n",
    "cds.retrieve('reanalysis-era5-pressure-levels', {\n",
    "           \"variable\": \"temperature\",\n",
    "           \"pressure_level\": \"1000\",\n",
    "           \"product_type\": \"reanalysis\",\n",
    "           \"date\": \"2017-12-01/2017-12-31\",\n",
    "           \"time\": \"12:00\",\n",
    "           \"format\": \"netcdf\"\n",
    "       }, 'download.nc')"
   ]
  },
  {
   "cell_type": "code",
   "execution_count": 48,
   "metadata": {},
   "outputs": [
    {
     "name": "stdout",
     "output_type": "stream",
     "text": [
      "2020-11-26/2018-06-05/1998-06-28/2001-08-23/2014-1\n"
     ]
    }
   ],
   "source": [
    "import pandas as pd\n",
    "df = pd.read_csv(r'C:\\Users\\camer\\Downloads\\WeatherV4.csv', sep='@')\n",
    "date_list = df['SampledDate'].tolist()\n",
    "date_list = '/'.join(date_list)\n",
    "print(date_list[:50])\n",
    "cds.retrieve('reanalysis-era5-pressure-levels', {\n",
    "           \"variable\": \"temperature\",\n",
    "           \"pressure_level\": \"1000\",\n",
    "           \"product_type\": \"reanalysis\",\n",
    "           \"date\": date_list,\n",
    "           \"time\": \"12:00\",\n",
    "           \"format\": \"netcdf\"\n",
    "       }, 'download.nc')"
   ]
  },
  {
   "cell_type": "code",
   "execution_count": 52,
   "metadata": {},
   "outputs": [
    {
     "name": "stdout",
     "output_type": "stream",
     "text": [
      "dict_keys(['longitude', 'latitude', 'time', 't'])\n",
      "<class 'netCDF4._netCDF4.Dataset'>\n",
      "root group (NETCDF3_64BIT_OFFSET data model, file format NETCDF3):\n",
      "    Conventions: CF-1.6\n",
      "    history: 2024-05-07 03:24:05 GMT by grib_to_netcdf-2.28.1: /opt/ecmwf/mars-client/bin/grib_to_netcdf -S param -o /cache/data4/adaptor.mars.internal-1715052244.4015183-1297-19-efda1347-95c1-4b88-86a1-935c4c838da3.nc /cache/tmp/efda1347-95c1-4b88-86a1-935c4c838da3-adaptor.mars.internal-1715052242.1799798-1297-15-tmp.grib\n",
      "    dimensions(sizes): longitude(1440), latitude(721), time(31)\n",
      "    variables(dimensions): float32 longitude(longitude), float32 latitude(latitude), int32 time(time), int16 t(time, latitude, longitude)\n",
      "    groups: \n"
     ]
    }
   ],
   "source": [
    "import netCDF4\n",
    "import os\n",
    "cwd = os.getcwd()\n",
    "weather_file = netCDF4.Dataset(cwd+'\\download.nc','r')\n",
    "print(weather_file.variables.keys())\n",
    "print(weather_file)"
   ]
  },
  {
   "cell_type": "code",
   "execution_count": 56,
   "metadata": {},
   "outputs": [
    {
     "name": "stdout",
     "output_type": "stream",
     "text": [
      "time:\n",
      "<class 'netCDF4._netCDF4.Variable'>\n",
      "int32 time(time)\n",
      "    units: hours since 1900-01-01 00:00:00.0\n",
      "    long_name: time\n",
      "    calendar: gregorian\n",
      "unlimited dimensions: \n",
      "current shape = (31,)\n",
      "filling on, default _FillValue of -2147483647 used\n",
      "\n",
      "\n",
      "temp\n",
      "<class 'netCDF4._netCDF4.Variable'>\n",
      "int16 t(time, latitude, longitude)\n",
      "    scale_factor: 0.0014835409065733103\n",
      "    add_offset: 268.79999370317955\n",
      "    _FillValue: -32767\n",
      "    missing_value: -32767\n",
      "    units: K\n",
      "    long_name: Temperature\n",
      "    standard_name: air_temperature\n",
      "unlimited dimensions: \n",
      "current shape = (31, 721, 1440)\n",
      "filling on\n"
     ]
    }
   ],
   "source": [
    "time = weather_file.variables['time']\n",
    "temp = weather_file.variables['t']\n",
    "print(\"time:\")\n",
    "print(time)\n",
    "print(\"\\n\")\n",
    "print(\"temp\")\n",
    "print(temp)"
   ]
  }
 ],
 "metadata": {
  "kernelspec": {
   "display_name": "weather",
   "language": "python",
   "name": "weather"
  },
  "language_info": {
   "codemirror_mode": {
    "name": "ipython",
    "version": 3
   },
   "file_extension": ".py",
   "mimetype": "text/x-python",
   "name": "python",
   "nbconvert_exporter": "python",
   "pygments_lexer": "ipython3",
   "version": "3.10.12"
  }
 },
 "nbformat": 4,
 "nbformat_minor": 2
}
