{
 "cells": [
  {
   "cell_type": "code",
   "execution_count": 1,
   "metadata": {},
   "outputs": [],
   "source": [
    "import pandas as pd\n",
    "import numpy as np\n",
    "from datetime import datetime\n",
    "from herbie import Herbie, FastHerbie"
   ]
  },
  {
   "cell_type": "code",
   "execution_count": 2,
   "metadata": {},
   "outputs": [],
   "source": [
    "INFILE_NAME = \"\"\n",
    "DATE_FORMAT = r\"%Y-%m-%d\"\n",
    "TIME_FORMAT = r\"%H:%M:%S\"\n",
    "HRRR_CUTOFF_DATE = datetime.strptime(\"2014-07-30\", DATE_FORMAT)  # earlier than this => use ECMWF"
   ]
  },
  {
   "cell_type": "code",
   "execution_count": 3,
   "metadata": {},
   "outputs": [],
   "source": [
    "df = pd.DataFrame({})\n",
    "\n",
    "desired_weather_params = [\n",
    "    \"main.temp\",\n",
    "    \"main.feels_like\",\n",
    "    \"main.pressure\",\n",
    "    \"main.humidity\",\n",
    "    \"main.dew_point\",\n",
    "    \"wind.speed\",\n",
    "    \"wind.deg\",\n",
    "    \"wind.gust\",\n",
    "    \"clouds.all\",\n",
    "    \"rain.3h\",\n",
    "    \"snow.3h\",\n",
    "    \"visibility\",\n",
    "]\n",
    "\n",
    "for param in desired_weather_params:\n",
    "    df[param] = np.nan"
   ]
  },
  {
   "cell_type": "code",
   "execution_count": 22,
   "metadata": {},
   "outputs": [
    {
     "name": "stdout",
     "output_type": "stream",
     "text": [
      "👨🏻‍🏭 Created directory: [/home/charles/data/hrrr/20190730]\n",
      "👨🏻‍🏭 Created directory: [/home/charles/data/hrrr/20190930]\n",
      "<xarray.Dataset> Size: 46MB\n",
      "Dimensions:              (time: 2, y: 1059, x: 1799)\n",
      "Coordinates:\n",
      "  * time                 (time) datetime64[ns] 16B 2019-07-30T18:00:00 2019-0...\n",
      "    step                 timedelta64[ns] 8B 00:00:00\n",
      "    heightAboveGround    float64 8B 2.0\n",
      "    latitude             (y, x) float64 15MB 21.14 21.15 21.15 ... 47.85 47.84\n",
      "    longitude            (y, x) float64 15MB 237.3 237.3 237.3 ... 299.0 299.1\n",
      "    valid_time           (time) datetime64[ns] 16B 2019-07-30T18:00:00 2019-0...\n",
      "Dimensions without coordinates: y, x\n",
      "Data variables:\n",
      "    t2m                  (time, y, x) float32 15MB 297.3 297.3 ... 280.8 280.8\n",
      "    gribfile_projection  object 8B None\n",
      "Attributes:\n",
      "    GRIB_edition:            2\n",
      "    GRIB_centre:             kwbc\n",
      "    GRIB_centreDescription:  US National Weather Service - NCEP\n",
      "    GRIB_subCentre:          0\n",
      "    Conventions:             CF-1.7\n",
      "    institution:             US National Weather Service - NCEP\n",
      "    model:                   hrrr\n",
      "    product:                 sfc\n",
      "    description:             High-Resolution Rapid Refresh - CONUS\n",
      "    searchString:            :TMP:2 m\n"
     ]
    }
   ],
   "source": [
    "df = pd.DataFrame({\"FID\": [\"1341515\", \"13\"], \"date\": [\"2019-07-30\", \"2019-09-30\"], \"time\": [\"18:47:13\", \"13:52:11\"]})\n",
    "\n",
    "MAX_THREADS = 100\n",
    "HRRR_SRC = \"hrrr\"\n",
    "ECMWF_SRC = \"ifs\"\n",
    "\n",
    "cases = {HRRR_SRC: [], ECMWF_SRC: []}\n",
    "for idx, row in df.iterrows():\n",
    "    date = datetime.strptime(row.at[\"date\"], DATE_FORMAT)\n",
    "\n",
    "    source = HRRR_SRC if date >= HRRR_CUTOFF_DATE else ECMWF_SRC\n",
    "\n",
    "    time = datetime.strptime(row.at[\"time\"], TIME_FORMAT)\n",
    "\n",
    "    cases[source].append((idx, datetime.combine(date.date(), time.time())))\n",
    "\n",
    "\n",
    "# the input to FastHerbie needs to maintain it's index in the output\n",
    "# if the result is sorted by time, we need to pre-sort cases by time\n",
    "FH_HRRR = FastHerbie([c[1] for c in cases[HRRR_SRC]], model=HRRR_SRC, product=\"sfc\", fxx=[0], max_threads=MAX_THREADS)\n",
    "print(FH_HRRR.xarray(searchString=\":TMP:2 m\"))\n",
    "# H_ECMWF = FastHerbie(list(cases[ECMWF_SRC].values()), model=ECMWF_SRC, product=\"sfc\", fxx=0, max_threads=MAX_THREADS)\n",
    "\n",
    "# for idx, value in enumerate(FH_HRRR):\n",
    "#     convert_to_api_params(value)\n",
    "#     for param in params:\n",
    "#         df.iat[i, param] = param_value"
   ]
  }
 ],
 "metadata": {
  "kernelspec": {
   "display_name": "ultimate-weather-forecast-esn2hfDb",
   "language": "python",
   "name": "python3"
  },
  "language_info": {
   "codemirror_mode": {
    "name": "ipython",
    "version": 3
   },
   "file_extension": ".py",
   "mimetype": "text/x-python",
   "name": "python",
   "nbconvert_exporter": "python",
   "pygments_lexer": "ipython3",
   "version": "3.10.12"
  }
 },
 "nbformat": 4,
 "nbformat_minor": 2
}
