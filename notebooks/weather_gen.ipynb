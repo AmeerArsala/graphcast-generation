{
 "cells": [
  {
   "cell_type": "code",
   "execution_count": 1,
   "metadata": {},
   "outputs": [],
   "source": [
    "import pandas as pd\n",
    "import numpy as np\n",
    "from datetime import datetime\n",
    "from herbie import Herbie, FastHerbie"
   ]
  },
  {
   "cell_type": "code",
   "execution_count": 2,
   "metadata": {},
   "outputs": [],
   "source": [
    "INFILE_NAME = \"\"\n",
    "DATE_FORMAT = r\"%Y-%m-%d\"\n",
    "TIME_FORMAT = r\"%H:%M:%S\"\n",
    "HRRR_CUTOFF_DATE = datetime.strptime(\"2014-07-30\", DATE_FORMAT)  # earlier than this => use ECMWF"
   ]
  },
  {
   "cell_type": "code",
   "execution_count": 3,
   "metadata": {},
   "outputs": [],
   "source": [
    "df = pd.DataFrame({})\n",
    "\n",
    "desired_weather_params = [\n",
    "    \"main.temp\",\n",
    "    \"main.feels_like\",\n",
    "    \"main.pressure\",\n",
    "    \"main.humidity\",\n",
    "    \"main.dew_point\",\n",
    "    \"wind.speed\",\n",
    "    \"wind.deg\",\n",
    "    \"wind.gust\",\n",
    "    \"clouds.all\",\n",
    "    \"rain.3h\",\n",
    "    \"snow.3h\",\n",
    "    \"visibility\",\n",
    "]\n",
    "\n",
    "for param in desired_weather_params:\n",
    "    df[param] = np.nan"
   ]
  },
  {
   "cell_type": "code",
   "execution_count": 20,
   "metadata": {},
   "outputs": [
    {
     "name": "stdout",
     "output_type": "stream",
     "text": [
      "✅ Found ┊ model=hrrr ┊ \u001b[3mproduct=sfc\u001b[0m ┊ \u001b[38;2;41;130;13m2019-Jul-30 00:00 UTC\u001b[92m F00\u001b[0m ┊ \u001b[38;2;255;153;0m\u001b[3mGRIB2 @ local\u001b[0m ┊ \u001b[38;2;255;153;0m\u001b[3mIDX @ aws\u001b[0m\n"
     ]
    },
    {
     "data": {
      "text/plain": [
       "{'NOMADS product description': 'https://www.nco.ncep.noaa.gov/pmb/products/hrrr/',\n",
       " 'University of Utah HRRR archive': 'http://hrrr.chpc.utah.edu/'}"
      ]
     },
     "execution_count": 20,
     "metadata": {},
     "output_type": "execute_result"
    }
   ],
   "source": [
    "HRRR_SRC = \"hrrr\"\n",
    "ECMWF_SRC = \"ifs\"\n",
    "\n",
    "# H = FastHerbie(\n",
    "#     [\"2019-07-30\"], model=HRRR_SRC, product=\"sfc\", fxx=[0]\n",
    "# )\n",
    "H = Herbie(\n",
    "    \"2019-07-30\", model=HRRR_SRC, product=\"sfc\", fxx=0\n",
    ")\n",
    "H."
   ]
  }
 ],
 "metadata": {
  "kernelspec": {
   "display_name": "ultimate-weather-forecast-esn2hfDb",
   "language": "python",
   "name": "python3"
  },
  "language_info": {
   "codemirror_mode": {
    "name": "ipython",
    "version": 3
   },
   "file_extension": ".py",
   "mimetype": "text/x-python",
   "name": "python",
   "nbconvert_exporter": "python",
   "pygments_lexer": "ipython3",
   "version": "3.10.12"
  }
 },
 "nbformat": 4,
 "nbformat_minor": 2
}
